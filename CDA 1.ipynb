{
 "cells": [
  {
   "cell_type": "code",
   "execution_count": 17,
   "id": "1c7413ec-a201-4b7c-8aae-dd5234158a70",
   "metadata": {},
   "outputs": [
    {
     "name": "stdout",
     "output_type": "stream",
     "text": [
      "temperature in  Bubaneshwar 25 °C\n"
     ]
    }
   ],
   "source": [
    "temperature = 25\n",
    "specific_humidity = 96\n",
    "location = \"Bubaneshwar\"\n",
    "print( f\"temperature in \",location,temperature,'°C')"
   ]
  },
  {
   "cell_type": "code",
   "execution_count": 18,
   "id": "0d7d1755-7c9f-4154-8b06-ae27a8d24664",
   "metadata": {},
   "outputs": [
    {
     "name": "stdout",
     "output_type": "stream",
     "text": [
      "The specific humidity in Bubaneshwar 96 %\n"
     ]
    }
   ],
   "source": [
    "print(f\"The specific humidity in\", location,specific_humidity,'%')"
   ]
  },
  {
   "cell_type": "markdown",
   "id": "55e325d0-48f6-46ff-85f3-b6e0249ac384",
   "metadata": {},
   "source": [
    "# weather condition\n",
    "the temperature specific humidity in the bubaneshwar is printed using the f string "
   ]
  },
  {
   "cell_type": "markdown",
   "id": "6249c9bf-cf35-40a7-adca-4566c5f95185",
   "metadata": {},
   "source": [
    "# Imported numpy python library printed \n",
    "took a dice and rooled it 10000 times printed the random number from 1...10000 to get it,we called np for numpy we have specified the random number upto the 42 thats what we seeded."
   ]
  },
  {
   "cell_type": "code",
   "execution_count": 66,
   "id": "5a7f2f32-d649-4ef5-a05d-e0f2a0e4beed",
   "metadata": {},
   "outputs": [
    {
     "name": "stdout",
     "output_type": "stream",
     "text": [
      "[4 5 3 ... 2 2 4]\n"
     ]
    }
   ],
   "source": [
    "import numpy as np\n",
    "import random \n",
    "np.random.seed(42)\n",
    "random_number = np.random.randint(1,7,10000)\n",
    "print(random_number)"
   ]
  },
  {
   "cell_type": "markdown",
   "id": "22adcd82-350f-4be1-af14-8132d3eb91a6",
   "metadata": {},
   "source": [
    "# probability of getting even number\n",
    "here we have used numpy library and generated probability of getting even number as pr_even by doing operation np.sum to the random number divided by 2 so that it get zero and divided the same with the total length of the random number."
   ]
  },
  {
   "cell_type": "code",
   "execution_count": 65,
   "id": "253684ea-ea7c-4d11-a87a-20db46d6abd8",
   "metadata": {},
   "outputs": [
    {
     "name": "stdout",
     "output_type": "stream",
     "text": [
      "0.5021\n"
     ]
    }
   ],
   "source": [
    "# Probability of getting even number \n",
    "pr_even = np.sum(random_number % 2 == 0)/ len(random_number)\n",
    "print(pr_even)"
   ]
  },
  {
   "cell_type": "markdown",
   "id": "fda65433-05d0-40f0-a694-6ac88f34c228",
   "metadata": {},
   "source": [
    "# Probablity of getting 3 \n",
    "here I have printed the \"headline\" by doing the operation for the random number exactly equal to 3 that divided by total length of the random number by calling np.sum   "
   ]
  },
  {
   "cell_type": "code",
   "execution_count": 64,
   "id": "d8bbb4d9-0b15-4739-8157-16a05c0a5346",
   "metadata": {},
   "outputs": [
    {
     "name": "stdout",
     "output_type": "stream",
     "text": [
      "0.1625\n"
     ]
    }
   ],
   "source": [
    "# Probability of getting 3 \n",
    "pr_n = np.sum (random_number == 3)/ len (random_number) \n",
    "print(pr_n)"
   ]
  },
  {
   "cell_type": "markdown",
   "id": "e98423a5-31f1-4abb-af00-65ac0343ace6",
   "metadata": {},
   "source": [
    "# Probability of getting >3 \n",
    "similarly to the above i have done the operation for the random number which is greater than 3 "
   ]
  },
  {
   "cell_type": "code",
   "execution_count": null,
   "id": "1bb3f570-77e5-4dbb-833e-045c1c1c7ee6",
   "metadata": {},
   "outputs": [],
   "source": [
    "# Probability of greater than 3 \n",
    "pr_greater_3 = np.sum(random_number>3)/ len(random_number)\n",
    "print(pr_greater_3)"
   ]
  },
  {
   "cell_type": "markdown",
   "id": "f9eda0cd-742a-4b04-8612-f810dd20d02a",
   "metadata": {},
   "source": [
    "# Probability of intersection \n",
    "i have performed the intersection operation for the random number greater than 3 and getting the even number using the \"&\"operator divided whole by length."
   ]
  },
  {
   "cell_type": "code",
   "execution_count": 61,
   "id": "a183771b-20ff-434c-b430-8ce9f5ac8229",
   "metadata": {},
   "outputs": [
    {
     "name": "stdout",
     "output_type": "stream",
     "text": [
      "0.3329\n"
     ]
    }
   ],
   "source": [
    "# Probabillity of intersection \n",
    "pr_3_intersection_pr_2 = np.sum((random_number > 3)& (random_number % 2 == 0))/len(random_number)\n",
    "print(pr_3_intersection_pr_2)"
   ]
  },
  {
   "cell_type": "markdown",
   "id": "c98d24c2-35cc-4228-aeb6-c862bc714a7d",
   "metadata": {},
   "source": [
    "# Conditional probability \n",
    "this operation usual done by diving the intersection of pr_3 and pr_2 and whole divided by probability of getting even number and printed the whole operation creating conditional variable below ie., pr_conditional."
   ]
  },
  {
   "cell_type": "code",
   "execution_count": 62,
   "id": "0a772b2b-58bb-409e-9bc1-70f87b8c37e8",
   "metadata": {},
   "outputs": [
    {
     "name": "stdout",
     "output_type": "stream",
     "text": [
      "0.6630153355905197\n"
     ]
    }
   ],
   "source": [
    "# Conditional Probability\n",
    "pr_conditional = pr_3_intersection_pr_2 / pr_even\n",
    "print(pr_conditional)"
   ]
  }
 ],
 "metadata": {
  "kernelspec": {
   "display_name": "Python 3 (ipykernel)",
   "language": "python",
   "name": "python3"
  },
  "language_info": {
   "codemirror_mode": {
    "name": "ipython",
    "version": 3
   },
   "file_extension": ".py",
   "mimetype": "text/x-python",
   "name": "python",
   "nbconvert_exporter": "python",
   "pygments_lexer": "ipython3",
   "version": "3.11.7"
  }
 },
 "nbformat": 4,
 "nbformat_minor": 5
}
