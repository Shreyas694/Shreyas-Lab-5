{
 "cells": [
  {
   "cell_type": "markdown",
   "id": "14c8f7f5-bd32-48ea-a7f1-1593e60e09cf",
   "metadata": {},
   "source": [
    "### CDA LAB 1 : Random Number Generation,Rolling A Dice,Conditonal Probability and Bay's Theorem "
   ]
  },
  {
   "cell_type": "markdown",
   "id": "c3250e7e-c984-4a08-90a7-c90b0398330e",
   "metadata": {},
   "source": [
    "#### 1. Temperature and Humidity of Any City "
   ]
  },
  {
   "cell_type": "code",
   "execution_count": 20,
   "id": "85252586-8002-4251-84bc-71cb22feacb4",
   "metadata": {},
   "outputs": [
    {
     "name": "stdout",
     "output_type": "stream",
     "text": [
      "The Temperature in Bengaluru is 27 degree celcius.\n",
      "The Specific Humidity in Bengaluru is 63 %.\n"
     ]
    }
   ],
   "source": [
    "# Date: 16/10 ; Time : 19:00\n",
    "temperature = 27 \n",
    "humidity = 63\n",
    "city = \"Bengaluru\"\n",
    "# print(f\"The Temperature and Specific Humidity in Bengaluru City respectively as\", temperature,\"degree celcius\",\"and\",humidity,\"%\" )\n",
    "# print(\"The temperature and humidity in\",city ,\"is\", temperature,\"degree celcius and\" , humidity,\"% respectively\" )\n",
    "print(f\"The Temperature in\",city,\"is\",temperature,\"degree celcius.\")\n",
    "print(f\"The Specific Humidity in\", city,\"is\",humidity,\"%.\")"
   ]
  },
  {
   "cell_type": "markdown",
   "id": "dac99a49-8178-4ea1-a5f8-e460b256e01d",
   "metadata": {},
   "source": [
    "#### 2. Rolling a Dice \n",
    "A fair die is rolled 10,000 times. Write code to compute: \n",
    "(a) P(3) – probability of rolling a 3. \n",
    "(b) P(Even) – probability of rolling an even number. Compare with theoretical values and comment on any differences."
   ]
  },
  {
   "cell_type": "markdown",
   "id": "13890cc2-5e4c-406e-8206-152c1b5e1bec",
   "metadata": {},
   "source": [
    " #### 3. Probability of getting 3 (pr_3) and Probability of getting even number (pr_even)"
   ]
  },
  {
   "cell_type": "code",
   "execution_count": 6,
   "id": "40af5225-0ff3-4c29-9121-b2ba7eae7d7f",
   "metadata": {},
   "outputs": [
    {
     "name": "stdout",
     "output_type": "stream",
     "text": [
      "[4 5 3 ... 2 2 4]\n",
      "P(3) = 0.162\n",
      "P(Even) = 0.502\n",
      "P(>3) = 0.502\n"
     ]
    }
   ],
   "source": [
    "# Import Neccessary Libraries\n",
    "import numpy as np\n",
    "import random \n",
    "np.random.seed(42)\n",
    "random_number = np.random.randint(1,7,10000)\n",
    "print(random_number)\n",
    "\n",
    "# Probability of getting 3 \n",
    "pr_3 = np.sum(random_number == 3) / len(random_number)\n",
    "print(\"P(3) =\",round(pr_3,3))\n",
    "\n",
    "# Probability of getting even number \n",
    "pr_even = np.sum(random_number % 2 == 0) / len (random_number)\n",
    "print(\"P(Even) =\", round(pr_even,3))\n",
    "\n",
    "# Probability of getting greater than 3 (>3) \n",
    "pr_greater_3 = np.sum(random_number > 3 ) / len (random_number) \n",
    "print(\"P(>3) =\", round(pr_greater_3,3))"
   ]
  },
  {
   "cell_type": "markdown",
   "id": "d038064b-14c4-48d7-b53d-9c0e447ee0ac",
   "metadata": {},
   "source": [
    "#### 4. Intersection of pr >3 and pr_even "
   ]
  },
  {
   "cell_type": "code",
   "execution_count": 9,
   "id": "356431bd-c218-4492-b5f0-0f78fad1779d",
   "metadata": {},
   "outputs": [
    {
     "name": "stdout",
     "output_type": "stream",
     "text": [
      "0.333\n"
     ]
    }
   ],
   "source": [
    "pr_3_intersection_pr_2 = np.sum((random_number > 3) & (random_number % 2 == 0 )) / len(random_number)\n",
    "print(round(pr_3_intersection_pr_2,3))"
   ]
  },
  {
   "cell_type": "markdown",
   "id": "9d2fa00e-1896-470a-a19c-bd625e671eac",
   "metadata": {},
   "source": [
    "#### 5. Conditional Probability "
   ]
  },
  {
   "cell_type": "code",
   "execution_count": 10,
   "id": "426738ae-e0e4-4ced-8ed3-49a213244cf5",
   "metadata": {},
   "outputs": [
    {
     "name": "stdout",
     "output_type": "stream",
     "text": [
      "0.663\n"
     ]
    }
   ],
   "source": [
    "pr_conditional = pr_3_intersection_pr_2 / pr_even \n",
    "print(round(pr_conditional,3))"
   ]
  },
  {
   "cell_type": "markdown",
   "id": "c191e8ff-bf8a-4c7d-9c12-34acf44c7ec9",
   "metadata": {},
   "source": [
    "#### 6. Bay's Theorem Application \n",
    " Suppose a climate model predicts whether a year will have above-normal monsoon rainfall. Historically, such years occur about 5% of the time. The model correctly identifies them 90% of the time (true positive rate), but also produces false alarms in 15% of normal years (false positive rate). Simulate 100,000 years of such predictions and estimate the probability that a year truly had above-normal monsoon rainfall given that the model predicted one."
   ]
  },
  {
   "cell_type": "code",
   "execution_count": 1,
   "id": "1ff7c6a6-a29b-4acb-8b2b-cf910c36f697",
   "metadata": {},
   "outputs": [
    {
     "ename": "NameError",
     "evalue": "name 'model' is not defined",
     "output_type": "error",
     "traceback": [
      "\u001b[1;31m---------------------------------------------------------------------------\u001b[0m",
      "\u001b[1;31mNameError\u001b[0m                                 Traceback (most recent call last)",
      "Cell \u001b[1;32mIn[1], line 15\u001b[0m\n\u001b[0;32m     13\u001b[0m \u001b[38;5;66;03m# Simulating Model Predictions \u001b[39;00m\n\u001b[0;32m     14\u001b[0m model_predicts_above_normal \u001b[38;5;241m=\u001b[39m np\u001b[38;5;241m.\u001b[39mzeros(N, dtype \u001b[38;5;241m=\u001b[39m \u001b[38;5;28mbool\u001b[39m)\n\u001b[1;32m---> 15\u001b[0m model\n",
      "\u001b[1;31mNameError\u001b[0m: name 'model' is not defined"
     ]
    }
   ],
   "source": [
    "# Import the necessary library for calculation \n",
    "import numpy as np \n",
    "\n",
    "# Define the Parameters \n",
    "N = 100000\n",
    "pr_above_normal = 0.05 \n",
    "pr_model_positive_above_normal = 0.90\n",
    "pr_model_negative_above_normal = 0.15\n",
    "\n",
    "# Simulating Actual rainfall \n",
    "actual_above_normal_rainfall = np.random.rand(N) < pr_above_normal\n",
    "\n",
    "# Simulating Model Predictions \n",
    "model_predicts_above_normal = np.zeros(N, dtype = bool)\n",
    "model_"
   ]
  },
  {
   "cell_type": "code",
   "execution_count": null,
   "id": "c5913b62-f93f-4810-b62f-cfec5511f931",
   "metadata": {},
   "outputs": [],
   "source": [
    "model_predicts_above_normal = np.zeros(N, dtype=bool)\n",
    "model_predicts_above_normal[actual_above_normal] = np.random.rand(np.sum(actual_above_normal)) < p_model_positive_given_above_normal\n",
    "model_predicts_above_normal[~actual_above_normal] = np.random.rand(np.sum(~actual_above_normal)) < p_model_positive_given_normal\n",
    "\n",
    "# Analyze outcomes\n",
    "true_alerts = actual_above_normal & model_predicts_above_normal\n",
    "total_model_alerts = np.sum(model_predicts_above_normal)\n",
    "total_true_alerts = np.sum(true_alerts)\n",
    "total_false_alerts = total_model_alerts - total_true_alerts\n",
    "\n",
    "# Estimate conditional probability\n",
    "p_above_normal_given_alert = total_true_alerts / total_model_alerts\n",
    "\n",
    "# Display results\n",
    "print(f\"Total model-predicted above-normal monsoon years: {total_model_alerts}\")\n",
    "print(f\" - True alerts (actual above-normal years): {total_true_alerts}\")\n",
    "print(f\" - False alerts: {total_false_alerts}\")\n",
    "print(f\"Estimated P(Above-Normal | Model Prediction): {p_above_normal_given_alert:.4f}\")"
   ]
  },
  {
   "cell_type": "code",
   "execution_count": null,
   "id": "2ddb5f3e-f041-462b-a118-a513ace4eef8",
   "metadata": {},
   "outputs": [],
   "source": []
  },
  {
   "cell_type": "markdown",
   "id": "0a7ce37e-89d5-4fc1-b42e-ffe27b9778d4",
   "metadata": {},
   "source": [
    "### CDA LAB 2 : Probability Distribution In Climate Science  "
   ]
  },
  {
   "cell_type": "markdown",
   "id": "abfa2b93-8d70-4238-88e4-43a838852d1b",
   "metadata": {},
   "source": [
    "#### Random Variables,CDF,PDF,Binomial Distribution,Geometric Distribution,Uniform Ditribution and Poissons Distribution\n",
    "01.The daily maximum temperature (in °C) in a certain coastal city during summer can be modeled as a uniform random variable between 20°C and 40°C.\n",
    "\n",
    "Perform: Simulate 1,000 days of maximum temperature data. Plot the Probability Density Function (PDF) as a histogram with 20 bins. Label axes and give an appropriate title.\n"
   ]
  },
  {
   "cell_type": "code",
   "execution_count": 5,
   "id": "13c83a8e-d995-4e36-90e5-bcc1dc627cc6",
   "metadata": {},
   "outputs": [
    {
     "data": {
      "text/plain": [
       "<function matplotlib.pyplot.show(close=None, block=None)>"
      ]
     },
     "execution_count": 5,
     "metadata": {},
     "output_type": "execute_result"
    },
    {
     "data": {
      "image/png": "[encoded data removed]",
      "text/plain": [
       "<Figure size 640x480 with 1 Axes>"
      ]
     },
     "metadata": {},
     "output_type": "display_data"
    }
   ],
   "source": [
    "# Import Necessary libraries \n",
    "import numpy as np \n",
    "import matplotlib.pyplot as plt\n",
    "np.random.seed (42)\n",
    "\n",
    "tempr = np.random.uniform(low = 20 , high = 40 , size = 1000)\n",
    "plt.hist(tempr,bins= 20 ,color = \"lightblue\" , edgecolor = \"black\",density = True,alpha = 0.7)\n",
    "plt.title( \"PDF:Daily Max Tempr\")\n",
    "plt.xlabel(\"Temperature(C)\")\n",
    "plt.ylabel(\"Probability Density\")\n",
    "plt.grid(True)\n",
    "plt.show"
   ]
  },
  {
   "cell_type": "markdown",
   "id": "7fcfc7df-2c51-4399-88a2-9dcc79bfd654",
   "metadata": {},
   "source": [
    "02.Using the same simulated temperature dataset from Question 1, compute and plot the Cumulative Distribution Function (CDF) for temperatures between 20°C and 40°C.\n",
    "\n",
    "Perform: Generate a sequence of temperature values from 20°C to 40°C. Use the uniform distribution CDF formula (or scipy.stats.uniform.cdf) to compute cumulative probabilities. Plot the CDF curve with proper labels and title."
   ]
  },
  {
   "cell_type": "code",
   "execution_count": 13,
   "id": "724eef9c-12c0-47d1-b1e5-cce69a9b6ed0",
   "metadata": {},
   "outputs": [
    {
     "data": {
      "image/png": "[encoded data removed]",
      "text/plain": [
       "<Figure size 640x480 with 1 Axes>"
      ]
     },
     "metadata": {},
     "output_type": "display_data"
    }
   ],
   "source": [
    "# Import Necessary Libraries For The CDF \n",
    "import numpy as np \n",
    "import matplotlib.pyplot as plt\n",
    "from scipy.stats import uniform \n",
    "x = np.linspace (20,40,100)\n",
    "cdf_vals = uniform.cdf (x, loc = 20 , scale = 20 )\n",
    "\n",
    "plt.plot(x,cdf_vals,color =\"darkgreen\")\n",
    "plt.title(\"CDF : Daily Max Tempr\")\n",
    "plt.xlabel(\"Temperature(C)\")\n",
    "plt.ylabel(\"CDF\")\n",
    "plt.grid(True)\n",
    "plt.show()"
   ]
  },
  {
   "cell_type": "markdown",
   "id": "d9fe2f4f-d2da-4f9b-94fd-0f412b047ac4",
   "metadata": {},
   "source": [
    "#### 2. Binomial Distribution: Probability of k successes In n Independent Trials. (Probability of Rain on a Given Number of Days)\n",
    "### P(X = k) = nCk(1-P)^n-k P^k \n",
    "Assume the probability of rain on a monsoon day is 0.6. What is the probability of getting exactly 3 rainy days in 5 days?"
   ]
  },
  {
   "cell_type": "code",
   "execution_count": 3,
   "id": "b00deb62-367d-4d80-8465-8932edd8d565",
   "metadata": {},
   "outputs": [
    {
     "name": "stdout",
     "output_type": "stream",
     "text": [
      "Probability of getting exactly 3 rains in 5 days = 0.3456\n"
     ]
    }
   ],
   "source": [
    "# Import Necessary Libraries \n",
    "from scipy.stats import binom\n",
    "n = 5 \n",
    "p = 0.6\n",
    "k = 3 \n",
    "\n",
    "prob = binom.pmf(k,n,p)\n",
    "print(f\"Probability of getting exactly 3 rains in 5 days = { prob:.4f}\")"
   ]
  },
  {
   "cell_type": "markdown",
   "id": "97075553-e4ed-4b87-8cb7-a71ef6554757",
   "metadata": {},
   "source": [
    "#### 3. Geometric Distribution : Number of Independent Trials Until The First Success (k = 1,2,3....)\n",
    "### P(X = k) = (1-P)^k-1 P\n",
    "If the probability of rain on a day is 0.4, what's the probability that the first rainy day occurs on the 4th day?"
   ]
  },
  {
   "cell_type": "code",
   "execution_count": 6,
   "id": "c96b794a-9ffd-4d75-a9ef-d39a6cdf6d47",
   "metadata": {},
   "outputs": [
    {
     "name": "stdout",
     "output_type": "stream",
     "text": [
      "Probability that the first rainy days occurs on the 4th day is = 0.0864\n"
     ]
    }
   ],
   "source": [
    "# Import Necessary Libraris \n",
    "from scipy.stats import geom \n",
    "p = 0.4 \n",
    "k = 4 \n",
    "\n",
    "prob = geom.pmf(k,p)\n",
    "print(f\"Probability that the first rainy days occurs on the 4th day is = {prob:.4f}\")"
   ]
  },
  {
   "cell_type": "markdown",
   "id": "651c48a7-397a-4de1-8362-d5f8801c1e8f",
   "metadata": {},
   "source": [
    "#### 4. Uniform Distribution : Continuous and Equally Likely Across [a,b]\n",
    "Assume temperature is equally likely between 25°C and 35°C. What's the probability it lies between 28°C and 32°C?"
   ]
  },
  {
   "cell_type": "code",
   "execution_count": 9,
   "id": "214f3936-1bc9-4f91-b16d-0c6cf9ab457b",
   "metadata": {},
   "outputs": [
    {
     "name": "stdout",
     "output_type": "stream",
     "text": [
      "The Probability of Temperature between 28 and 32 is = 0.4000\n"
     ]
    }
   ],
   "source": [
    "# Import the Neccessary Libraries \n",
    "from scipy.stats import uniform \n",
    "a,b = 25,35\n",
    "\n",
    "prob = uniform.cdf(32,loc=a, scale = b-a ) - uniform.cdf(28,loc=a, scale = b-a )\n",
    "print(f\"The Probability of Temperature between 28 and 32 is = {prob:.4f}\")"
   ]
  },
  {
   "cell_type": "markdown",
   "id": "34a4ff8c-e4c2-4ead-82d0-1789ff747b28",
   "metadata": {},
   "source": [
    "#### 5. Poisson's Ditribution : Occurence of Events is Independent and Rare Over a Large Number of Opportunities \n",
    "### P(X= k) = λ^k (e^-λ) / k!  ; k= 0,1,2....  where, λ = np ; n = number of trials, p = probability of success , λ(mu) = average or mean\n",
    "Assume we observe 2 extreme rainfall events per year on average. What is the probability that 4 such events occur in a given year"
   ]
  },
  {
   "cell_type": "code",
   "execution_count": 10,
   "id": "276d2e09-ed34-454f-a3f7-76130c1be61f",
   "metadata": {},
   "outputs": [
    {
     "name": "stdout",
     "output_type": "stream",
     "text": [
      "Probability of 4 such events in a given year = 0.0902\n"
     ]
    }
   ],
   "source": [
    "# Import necessary libraries \n",
    "from scipy.stats import poisson \n",
    "mu = 2\n",
    "k = 4\n",
    "\n",
    "prob = poisson.pmf(k,mu)\n",
    "print(f\"Probability of 4 such events in a given year = {prob:.4f}\")"
   ]
  },
  {
   "cell_type": "code",
   "execution_count": null,
   "id": "7d1ab763-ad89-43cf-ac9a-60e59cbe3414",
   "metadata": {},
   "outputs": [],
   "source": []
  },
  {
   "cell_type": "markdown",
   "id": "d0bf7291-69d0-4a0d-bcc1-aeb7f52ab5ec",
   "metadata": {},
   "source": [
    "### CDA LAB 3 : Functions of Random Variables,Transformations and Moments \n",
    "1. Load IMD Daily Rainfall Data\n",
    "2. Apply Transformation of Random Variables"
   ]
  },
  {
   "cell_type": "code",
   "execution_count": 6,
   "id": "8846e1eb-2eb5-4806-9d98-25a0d5c89d42",
   "metadata": {},
   "outputs": [
    {
     "ename": "ValueError",
     "evalue": "unrecognized engine 'netcdf4' must be one of your download engines: ['scipy', 'store']. To install additional dependencies, see:\nhttps://docs.xarray.dev/en/stable/user-guide/io.html \nhttps://docs.xarray.dev/en/stable/getting-started-guide/installing.html",
     "output_type": "error",
     "traceback": [
      "\u001b[1;31m---------------------------------------------------------------------------\u001b[0m",
      "\u001b[1;31mValueError\u001b[0m                                Traceback (most recent call last)",
      "Cell \u001b[1;32mIn[6], line 8\u001b[0m\n\u001b[0;32m      5\u001b[0m \u001b[38;5;28;01mfrom\u001b[39;00m\u001b[38;5;250m \u001b[39m\u001b[38;5;21;01mscipy\u001b[39;00m\u001b[38;5;250m \u001b[39m\u001b[38;5;28;01mimport\u001b[39;00m stats \n\u001b[0;32m      7\u001b[0m \u001b[38;5;66;03m# Load the IMD Rainfall Datasets and the Path \u001b[39;00m\n\u001b[1;32m----> 8\u001b[0m ds \u001b[38;5;241m=\u001b[39m xr\u001b[38;5;241m.\u001b[39mopen_dataset (\u001b[38;5;124m'\u001b[39m\u001b[38;5;124mC:/Users/91935/2024_Net_CDF/RF25_ind2024_rfp25.nc\u001b[39m\u001b[38;5;124m'\u001b[39m,engine\u001b[38;5;241m=\u001b[39m\u001b[38;5;124m'\u001b[39m\u001b[38;5;124mnetcdf4\u001b[39m\u001b[38;5;124m'\u001b[39m)\n\u001b[0;32m      9\u001b[0m \u001b[38;5;28mprint\u001b[39m(ds)\n",
      "File \u001b[1;32mC:\\ProgramData\\anaconda3\\Lib\\site-packages\\xarray\\backends\\api.py:673\u001b[0m, in \u001b[0;36mopen_dataset\u001b[1;34m(filename_or_obj, engine, chunks, cache, decode_cf, mask_and_scale, decode_times, decode_timedelta, use_cftime, concat_characters, decode_coords, drop_variables, inline_array, chunked_array_type, from_array_kwargs, backend_kwargs, **kwargs)\u001b[0m\n\u001b[0;32m    670\u001b[0m \u001b[38;5;28;01mif\u001b[39;00m from_array_kwargs \u001b[38;5;129;01mis\u001b[39;00m \u001b[38;5;28;01mNone\u001b[39;00m:\n\u001b[0;32m    671\u001b[0m     from_array_kwargs \u001b[38;5;241m=\u001b[39m {}\n\u001b[1;32m--> 673\u001b[0m backend \u001b[38;5;241m=\u001b[39m plugins\u001b[38;5;241m.\u001b[39mget_backend(engine)\n\u001b[0;32m    675\u001b[0m decoders \u001b[38;5;241m=\u001b[39m _resolve_decoders_kwargs(\n\u001b[0;32m    676\u001b[0m     decode_cf,\n\u001b[0;32m    677\u001b[0m     open_backend_dataset_parameters\u001b[38;5;241m=\u001b[39mbackend\u001b[38;5;241m.\u001b[39mopen_dataset_parameters,\n\u001b[1;32m   (...)\u001b[0m\n\u001b[0;32m    683\u001b[0m     decode_coords\u001b[38;5;241m=\u001b[39mdecode_coords,\n\u001b[0;32m    684\u001b[0m )\n\u001b[0;32m    686\u001b[0m overwrite_encoded_chunks \u001b[38;5;241m=\u001b[39m kwargs\u001b[38;5;241m.\u001b[39mpop(\u001b[38;5;124m\"\u001b[39m\u001b[38;5;124moverwrite_encoded_chunks\u001b[39m\u001b[38;5;124m\"\u001b[39m, \u001b[38;5;28;01mNone\u001b[39;00m)\n",
      "File \u001b[1;32mC:\\ProgramData\\anaconda3\\Lib\\site-packages\\xarray\\backends\\plugins.py:202\u001b[0m, in \u001b[0;36mget_backend\u001b[1;34m(engine)\u001b[0m\n\u001b[0;32m    200\u001b[0m     engines \u001b[38;5;241m=\u001b[39m list_engines()\n\u001b[0;32m    201\u001b[0m     \u001b[38;5;28;01mif\u001b[39;00m engine \u001b[38;5;129;01mnot\u001b[39;00m \u001b[38;5;129;01min\u001b[39;00m engines:\n\u001b[1;32m--> 202\u001b[0m         \u001b[38;5;28;01mraise\u001b[39;00m \u001b[38;5;167;01mValueError\u001b[39;00m(\n\u001b[0;32m    203\u001b[0m             \u001b[38;5;124mf\u001b[39m\u001b[38;5;124m\"\u001b[39m\u001b[38;5;124munrecognized engine \u001b[39m\u001b[38;5;124m'\u001b[39m\u001b[38;5;132;01m{\u001b[39;00mengine\u001b[38;5;132;01m}\u001b[39;00m\u001b[38;5;124m'\u001b[39m\u001b[38;5;124m must be one of your download engines: \u001b[39m\u001b[38;5;132;01m{\u001b[39;00m\u001b[38;5;28mlist\u001b[39m(engines)\u001b[38;5;132;01m}\u001b[39;00m\u001b[38;5;124m. \u001b[39m\u001b[38;5;124m\"\u001b[39m\n\u001b[0;32m    204\u001b[0m             \u001b[38;5;124m\"\u001b[39m\u001b[38;5;124mTo install additional dependencies, see:\u001b[39m\u001b[38;5;130;01m\\n\u001b[39;00m\u001b[38;5;124m\"\u001b[39m\n\u001b[0;32m    205\u001b[0m             \u001b[38;5;124m\"\u001b[39m\u001b[38;5;124mhttps://docs.xarray.dev/en/stable/user-guide/io.html \u001b[39m\u001b[38;5;130;01m\\n\u001b[39;00m\u001b[38;5;124m\"\u001b[39m\n\u001b[0;32m    206\u001b[0m             \u001b[38;5;124m\"\u001b[39m\u001b[38;5;124mhttps://docs.xarray.dev/en/stable/getting-started-guide/installing.html\u001b[39m\u001b[38;5;124m\"\u001b[39m\n\u001b[0;32m    207\u001b[0m         )\n\u001b[0;32m    208\u001b[0m     backend \u001b[38;5;241m=\u001b[39m engines[engine]\n\u001b[0;32m    209\u001b[0m \u001b[38;5;28;01melif\u001b[39;00m \u001b[38;5;28missubclass\u001b[39m(engine, BackendEntrypoint):\n",
      "\u001b[1;31mValueError\u001b[0m: unrecognized engine 'netcdf4' must be one of your download engines: ['scipy', 'store']. To install additional dependencies, see:\nhttps://docs.xarray.dev/en/stable/user-guide/io.html \nhttps://docs.xarray.dev/en/stable/getting-started-guide/installing.html"
     ]
    }
   ],
   "source": [
    "# Import Necessary Libraries \n",
    "import numpy as np \n",
    "import matplotlib.pyplot as plt \n",
    "import xarray as xr \n",
    "from scipy import stats \n",
    "\n",
    "# Load the IMD Rainfall Datasets and the Path \n",
    "ds = xr.open_dataset ('C:/Users/91935/2024_Net_CDF/RF25_ind2024_rfp25.nc',engine='netcdf4')\n",
    "print(ds)"
   ]
  },
  {
   "cell_type": "markdown",
   "id": "4fcf4913-3ef9-4ded-86c7-da035d118144",
   "metadata": {},
   "source": [
    "### CDA LAB 4 :"
   ]
  }
 ],
 "metadata": {
  "kernelspec": {
   "display_name": "Python 3 (ipykernel)",
   "language": "python",
   "name": "python3"
  },
  "language_info": {
   "codemirror_mode": {
    "name": "ipython",
    "version": 3
   },
   "file_extension": ".py",
   "mimetype": "text/x-python",
   "name": "python",
   "nbconvert_exporter": "python",
   "pygments_lexer": "ipython3",
   "version": "3.13.5"
  }
 },
 "nbformat": 4,
 "nbformat_minor": 5
}
